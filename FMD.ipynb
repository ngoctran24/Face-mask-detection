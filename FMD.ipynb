{
  "nbformat": 4,
  "nbformat_minor": 0,
  "metadata": {
    "colab": {
      "name": "FMD.ipynb",
      "provenance": [],
      "collapsed_sections": [],
      "toc_visible": true,
      "mount_file_id": "1IRYqk9mB-GFec4hoL6GHnbXQyBKZ8L8Y",
      "authorship_tag": "ABX9TyPT7sJJK+pn1stuOyOMymTv",
      "include_colab_link": true
    },
    "kernelspec": {
      "name": "python3",
      "display_name": "Python 3"
    },
    "accelerator": "GPU"
  },
  "cells": [
    {
      "cell_type": "markdown",
      "metadata": {
        "id": "view-in-github",
        "colab_type": "text"
      },
      "source": [
        "<a href=\"https://colab.research.google.com/github/ngoctran24/machineLearning/blob/master/FMD.ipynb\" target=\"_parent\"><img src=\"https://colab.research.google.com/assets/colab-badge.svg\" alt=\"Open In Colab\"/></a>"
      ]
    },
    {
      "cell_type": "code",
      "metadata": {
        "id": "L8EFO3aOmX53",
        "colab_type": "code",
        "colab": {
          "base_uri": "https://localhost:8080/",
          "height": 71
        },
        "outputId": "884f0ad0-8288-4c2a-8703-87a82d7ce432"
      },
      "source": [
        "from google.colab import drive\n",
        "import os\n",
        "drive.mount(\"/content/gdrive\")\n",
        "\n",
        "os.chdir('/content/gdrive/My Drive/shecode/reference2-paper/')\n",
        "print(os.getcwd())"
      ],
      "execution_count": 1,
      "outputs": [
        {
          "output_type": "stream",
          "text": [
            "Drive already mounted at /content/gdrive; to attempt to forcibly remount, call drive.mount(\"/content/gdrive\", force_remount=True).\n",
            "/content/gdrive/My Drive/shecode/reference2-paper\n"
          ],
          "name": "stdout"
        }
      ]
    },
    {
      "cell_type": "code",
      "metadata": {
        "id": "xpQqoYVMmdsc",
        "colab_type": "code",
        "colab": {}
      },
      "source": [
        "# USAGE\n",
        "# python train_mask_detector.py --dataset dataset\n",
        "\n",
        "# import the necessary packages\n",
        "from tensorflow.keras.preprocessing.image import ImageDataGenerator\n",
        "from tensorflow.keras.applications import MobileNetV2\n",
        "from tensorflow.keras.layers import AveragePooling2D\n",
        "from tensorflow.keras.layers import Dropout\n",
        "from tensorflow.keras.layers import Flatten\n",
        "from tensorflow.keras.layers import Dense\n",
        "from tensorflow.keras.layers import Input\n",
        "from tensorflow.keras.models import Model\n",
        "from tensorflow.keras.optimizers import Adam\n",
        "from tensorflow.keras.applications.mobilenet_v2 import preprocess_input\n",
        "from tensorflow.keras.preprocessing.image import img_to_array\n",
        "from tensorflow.keras.preprocessing.image import load_img\n",
        "from tensorflow.keras.utils import to_categorical\n",
        "from sklearn.preprocessing import LabelBinarizer\n",
        "from sklearn.model_selection import train_test_split\n",
        "from sklearn.metrics import classification_report\n",
        "from imutils import paths\n",
        "import matplotlib.pyplot as plt\n",
        "import numpy as np\n",
        "import argparse\n",
        "import os\n",
        "import cv2\n",
        "\n",
        "# construct the argument parser and parse the arguments\n",
        "# ap = argparse.ArgumentParser()\n",
        "# ap.add_argument(\"-d\", \"--dataset\", required=True,\n",
        "# \thelp=\"path to input dataset\")\n",
        "# ap.add_argument(\"-p\", \"--plot\", type=str, default=\"plot.png\",\n",
        "# \thelp=\"path to output loss/accuracy plot\")\n",
        "# ap.add_argument(\"-m\", \"--model\", type=str,\n",
        "# \tdefault=\"mask_detector.model\",\n",
        "# \thelp=\"path to output face mask detector model\")\n",
        "# args = vars(ap.parse_args())\n"
      ],
      "execution_count": 2,
      "outputs": []
    },
    {
      "cell_type": "code",
      "metadata": {
        "id": "VTFug91dnzKu",
        "colab_type": "code",
        "colab": {
          "base_uri": "https://localhost:8080/",
          "height": 51
        },
        "outputId": "e8a5c89e-bf46-464e-8ca0-9cee9248ba66"
      },
      "source": [
        "# initialize the initial learning rate, number of epochs to train for,\n",
        "# and batch size\n",
        "INIT_LR = 1e-4\n",
        "EPOCHS = 20\n",
        "BS = 32\n",
        "\n",
        "# grab the list of images in our dataset directory, then initialize\n",
        "# the list of data (i.e., images) and class images\n",
        "print(\"[INFO] loading images...\")\n",
        "imagePaths = '/content/gdrive/My Drive/shecode/reference2-paper/dataset/'\n",
        "\n",
        "os.path.exists(imagePaths)\n"
      ],
      "execution_count": 3,
      "outputs": [
        {
          "output_type": "stream",
          "text": [
            "[INFO] loading images...\n"
          ],
          "name": "stdout"
        },
        {
          "output_type": "execute_result",
          "data": {
            "text/plain": [
              "True"
            ]
          },
          "metadata": {
            "tags": []
          },
          "execution_count": 3
        }
      ]
    },
    {
      "cell_type": "code",
      "metadata": {
        "id": "Jlnuth5-VprT",
        "colab_type": "code",
        "colab": {}
      },
      "source": [
        "def get_subfiles(dir):\n",
        "  \"Get a list of immediate subfiles\"\n",
        "  return next(os.walk(dir))[2]\n"
      ],
      "execution_count": 4,
      "outputs": []
    },
    {
      "cell_type": "code",
      "metadata": {
        "id": "qY6hEeedMgWC",
        "colab_type": "code",
        "colab": {}
      },
      "source": [
        "# # loop over the image paths\n",
        "# data = []\n",
        "# labels = []\n",
        "# for imagePath in os.listdir(imagePaths):\n",
        "# \t# extract the class label from the filename\n",
        "# \tlabel = imagePath\n",
        "# \tfor name in get_subfiles(imagePaths+imagePath):\n",
        "# \t\t# load the input image (224x224) and preprocess it\n",
        "# \t\tif (name[0] != 'a'):\n",
        "# \t\t\timg = cv2.imread(imagePaths + imagePath + '/' + name)\n",
        "# \t\t\timg = cv2.cvtColor(img, cv2.COLOR_BGR2RGB)\n",
        "# \t\t\timg = cv2.resize(img, (224, 224))\n",
        "# \t\t\timg_ = img_to_array(img)\n",
        "# \t\t\timage = preprocess_input(img_)\n",
        "\n",
        "# \t\t\t# update the data and labels lists, respectively\n",
        "# \t\t\tdata.append(image)\n",
        "# \t\t\tlabels.append(label)"
      ],
      "execution_count": 10,
      "outputs": []
    },
    {
      "cell_type": "code",
      "metadata": {
        "id": "NI0Z1JSLYYq2",
        "colab_type": "code",
        "colab": {
          "base_uri": "https://localhost:8080/",
          "height": 323
        },
        "outputId": "0de5623c-c479-426f-d412-a5923f6cd020"
      },
      "source": [
        "# plt.imshow(data[5])"
      ],
      "execution_count": 11,
      "outputs": [
        {
          "output_type": "stream",
          "text": [
            "Clipping input data to the valid range for imshow with RGB data ([0..1] for floats or [0..255] for integers).\n"
          ],
          "name": "stderr"
        },
        {
          "output_type": "execute_result",
          "data": {
            "text/plain": [
              "<matplotlib.image.AxesImage at 0x7f2b0430da20>"
            ]
          },
          "metadata": {
            "tags": []
          },
          "execution_count": 11
        },
        {
          "output_type": "display_data",
          "data": {
            "image/png": "[encoded data removed]",
            "text/plain": [
              "<Figure size 432x288 with 1 Axes>"
            ]
          },
          "metadata": {
            "tags": [],
            "needs_background": "light"
          }
        }
      ]
    },
    {
      "cell_type": "code",
      "metadata": {
        "id": "4_UhVFCCoPMM",
        "colab_type": "code",
        "colab": {
          "base_uri": "https://localhost:8080/",
          "height": 34
        },
        "outputId": "68736990-d581-4e05-d77e-3b1c5a007992"
      },
      "source": [
        "# # convert the data and labels to NumPy arrays\n",
        "# data = np.array(data, dtype=\"float32\")\n",
        "# labels = np.array(labels)\n",
        "\n",
        "# # perform one-hot encoding on the labels\n",
        "# lb = LabelBinarizer()\n",
        "# labels = lb.fit_transform(labels)\n",
        "# labels = to_categorical(labels)\n",
        "\n",
        "# # partition the data into training and testing splits using 75% of\n",
        "# # the data for training and the remaining 25% for testing\n",
        "# (trainX, testX, trainY, testY) = train_test_split(data, labels,\n",
        "# \ttest_size=0.20, stratify=labels, random_state=42)\n",
        "# print(len(trainX), len(testX))"
      ],
      "execution_count": 12,
      "outputs": [
        {
          "output_type": "stream",
          "text": [
            "656 164\n"
          ],
          "name": "stdout"
        }
      ]
    },
    {
      "cell_type": "code",
      "metadata": {
        "id": "9vl5GbeZZR4L",
        "colab_type": "code",
        "colab": {}
      },
      "source": [
        "# TRAIN\n",
        "# # construct the training image generator for data augmentation\n",
        "# aug = ImageDataGenerator(\n",
        "# \trotation_range=20,\n",
        "# \tzoom_range=0.15,\n",
        "# \twidth_shift_range=0.2,\n",
        "# \theight_shift_range=0.2,\n",
        "# \tshear_range=0.15,\n",
        "# \thorizontal_flip=True,\n",
        "# \tfill_mode=\"nearest\")\n",
        "\n",
        "# # load the MobileNetV2 network, ensuring the head FC layer sets are\n",
        "# # left off\n",
        "# baseModel = MobileNetV2(weights=\"imagenet\", include_top=False,\n",
        "# \tinput_tensor=Input(shape=(224, 224, 3)))\n",
        "\n",
        "# # construct the head of the model that will be placed on top of the\n",
        "# # the base model\n",
        "# headModel = baseModel.output\n",
        "# headModel = AveragePooling2D(pool_size=(7, 7))(headModel)\n",
        "# headModel = Flatten(name=\"flatten\")(headModel)\n",
        "# headModel = Dense(128, activation=\"relu\")(headModel)\n",
        "# headModel = Dropout(0.5)(headModel)\n",
        "# headModel = Dense(2, activation=\"softmax\")(headModel)\n",
        "\n",
        "# # place the head FC model on top of the base model (this will become\n",
        "# # the actual model we will train)\n",
        "# model = Model(inputs=baseModel.input, outputs=headModel)\n",
        "\n",
        "# # loop over all layers in the base model and freeze them so they will\n",
        "# # *not* be updated during the first training process\n",
        "# for layer in baseModel.layers:\n",
        "# \tlayer.trainable = False\n",
        "\n",
        "# # compile our model\n",
        "# print(\"[INFO] compiling model...\")\n",
        "\n",
        "# opt = Adam(lr=INIT_LR, decay=INIT_LR / EPOCHS)\n",
        "# model.compile(loss=\"binary_crossentropy\", optimizer=opt,\n",
        "# \tmetrics=[\"accuracy\"])\n",
        "\n",
        "# # train the head of the network\n",
        "# print(\"[INFO] training head...\")\n",
        "# H = model.fit(\n",
        "# \taug.flow(trainX, trainY, batch_size=BS),\n",
        "# \tsteps_per_epoch=len(trainX) // BS,\n",
        "# \tvalidation_data=(testX, testY),\n",
        "# \tvalidation_steps=len(testX) // BS,\n",
        "# \tepochs=EPOCHS)\n",
        "\n",
        "# # make predictions on the testing set\n",
        "# print(\"[INFO] evaluating network...\")\n",
        "# predIdxs = model.predict(testX, batch_size=BS)\n",
        "\n",
        "# # for each image in the testing set we need to find the index of the\n",
        "# # label with corresponding largest predicted probability\n",
        "# predIdxs = np.argmax(predIdxs, axis=1)\n",
        "\n",
        "# # show a nicely formatted classification report\n",
        "# print(classification_report(testY.argmax(axis=1), predIdxs,\n",
        "# \ttarget_names=lb.classes_))\n",
        "\n",
        "# # serialize the model to disk\n",
        "# print(\"[INFO] saving mask detector model...\")\n",
        "# model.save('model.h5')\n",
        "\n",
        "# # serialize model to JSON\n",
        "# # model_json = model.to_json()\n",
        "# # with open(\"./save_model/model.json\", \"w\") as json_file:\n",
        "# #    json_file.write(model_json)\n",
        "# # serialize weights to HDF5\n",
        "# # model.save_weights(\"./save_model/model.h5\")\n",
        "# print(\"Saved model to disk\")\n",
        "# model.summary()\n",
        "\n",
        "\n",
        "# # plot the training loss and accuracy\n",
        "# N = EPOCHS\n",
        "# plt.style.use(\"ggplot\")\n",
        "# plt.figure()\n",
        "# plt.plot(np.arange(0, N), H.history[\"loss\"], label=\"train_loss\")\n",
        "# plt.plot(np.arange(0, N), H.history[\"val_loss\"], label=\"val_loss\")\n",
        "# plt.plot(np.arange(0, N), H.history[\"accuracy\"], label=\"train_acc\")\n",
        "# plt.plot(np.arange(0, N), H.history[\"val_accuracy\"], label=\"val_acc\")\n",
        "# plt.title(\"Training Loss and Accuracy\")\n",
        "# plt.xlabel(\"Epoch #\")\n",
        "# plt.ylabel(\"Loss/Accuracy\")\n",
        "# plt.legend(loc=\"lower left\")\n",
        "# plt.savefig(args[\"plot\"])"
      ],
      "execution_count": null,
      "outputs": []
    },
    {
      "cell_type": "code",
      "metadata": {
        "id": "HvDCOea9Mvlk",
        "colab_type": "code",
        "colab": {}
      },
      "source": [
        "# model.summary()"
      ],
      "execution_count": 13,
      "outputs": []
    },
    {
      "cell_type": "code",
      "metadata": {
        "id": "EFZNTIHB3Ufo",
        "colab_type": "code",
        "colab": {
          "base_uri": "https://localhost:8080/",
          "height": 34
        },
        "outputId": "35c7b266-26b9-4f9c-fc9f-0476d803a67f"
      },
      "source": [
        "# USAGE\n",
        "# python detect_mask_image.py --image examples/example_01.png\n",
        "\n",
        "# import the necessary packages\n",
        "from tensorflow.keras.applications.mobilenet_v2 import preprocess_input\n",
        "from tensorflow.keras.preprocessing.image import img_to_array\n",
        "from tensorflow.keras.models import load_model\n",
        "import numpy as np\n",
        "import argparse\n",
        "import cv2\n",
        "import os\n",
        "\n",
        "print(\"[INFO] loading face mask detector model...\")\n",
        "model = load_model('model.h5')"
      ],
      "execution_count": 14,
      "outputs": [
        {
          "output_type": "stream",
          "text": [
            "[INFO] loading face mask detector model...\n"
          ],
          "name": "stdout"
        }
      ]
    },
    {
      "cell_type": "code",
      "metadata": {
        "id": "eN60IwBABArl",
        "colab_type": "code",
        "colab": {
          "base_uri": "https://localhost:8080/",
          "height": 85
        },
        "outputId": "bbac782a-6393-4285-c012-12db471c74bd"
      },
      "source": [
        "# dataset = []\n",
        "# # loop over the image paths\n",
        "# for imagePath in os.listdir(imagePaths):\n",
        "# \t# extract the class label from the filename\n",
        "# \tfor name in get_subfiles(imagePaths+imagePath):\n",
        "# \t\t# load the input image (224x224) and preprocess it\n",
        "# \t\ti += 1\n",
        "# \t\t# print(i, end = ' ')\n",
        "# \t\timg = cv2.imread(imagePaths + imagePath + '/' + name)\n",
        "# \t\timg = cv2.cvtColor(img, cv2.COLOR_BGR2RGB)\n",
        "# \t\timg = cv2.resize(img, (224, 224))\n",
        "# \t\t# update the data and labels lists, respectively\n",
        "# \t\tdataset.append(img)"
      ],
      "execution_count": 15,
      "outputs": [
        {
          "output_type": "stream",
          "text": [
            "\n",
            "\n",
            "\n",
            "\n"
          ],
          "name": "stdout"
        }
      ]
    },
    {
      "cell_type": "markdown",
      "metadata": {
        "id": "GvT8UYCsuGb8",
        "colab_type": "text"
      },
      "source": [
        "# DETECT MASK IMAGE"
      ]
    },
    {
      "cell_type": "code",
      "metadata": {
        "id": "OhGV-2myK3oc",
        "colab_type": "code",
        "colab": {}
      },
      "source": [
        "testImg = []\n",
        "pathPredict = \"/content/gdrive/My Drive/shecode/reference2-paper/examples/\"\n",
        "for name in get_subfiles(pathPredict):\n",
        "\t\t# load the input image (224x224) and preprocess it\n",
        "\t\timg = cv2.imread(pathPredict + '/' + name)\n",
        "\t\timg = cv2.cvtColor(img, cv2.COLOR_BGR2RGB)\n",
        "\t\ttestImg.append(img)"
      ],
      "execution_count": 92,
      "outputs": []
    },
    {
      "cell_type": "code",
      "metadata": {
        "id": "CgpNT-9EB0Gu",
        "colab_type": "code",
        "colab": {
          "base_uri": "https://localhost:8080/",
          "height": 303
        },
        "outputId": "a2637544-5832-4711-9291-467f84a0443a"
      },
      "source": [
        "print(len(testImg))\n",
        "image = testImg[0].copy()\n",
        "plt.imshow(image)"
      ],
      "execution_count": 100,
      "outputs": [
        {
          "output_type": "stream",
          "text": [
            "2\n"
          ],
          "name": "stdout"
        },
        {
          "output_type": "execute_result",
          "data": {
            "text/plain": [
              "<matplotlib.image.AxesImage at 0x7f2aa1207780>"
            ]
          },
          "metadata": {
            "tags": []
          },
          "execution_count": 100
        },
        {
          "output_type": "display_data",
          "data": {
            "image/png": "[encoded data removed]",
            "text/plain": [
              "<Figure size 432x288 with 1 Axes>"
            ]
          },
          "metadata": {
            "tags": [],
            "needs_background": "light"
          }
        }
      ]
    },
    {
      "cell_type": "code",
      "metadata": {
        "id": "yXL8XAgX3nPD",
        "colab_type": "code",
        "colab": {
          "base_uri": "https://localhost:8080/",
          "height": 34
        },
        "outputId": "60edb7f2-0e8b-46d2-c44e-9c3f65caa320"
      },
      "source": [
        "# construct a blob from the image\n",
        "blob = cv2.dnn.blobFromImage(image, 1.0, (300, 300),\n",
        "\t(104.0, 177.0, 123.0))\n",
        "\n",
        "# pass the blob through the network and obtain the face detections\n",
        "print(\"[INFO] computing face detections...\")"
      ],
      "execution_count": 101,
      "outputs": [
        {
          "output_type": "stream",
          "text": [
            "[INFO] computing face detections...\n"
          ],
          "name": "stdout"
        }
      ]
    },
    {
      "cell_type": "code",
      "metadata": {
        "id": "yRD2UEmW4eKH",
        "colab_type": "code",
        "colab": {}
      },
      "source": [
        "prototxtPath  = \"/content/gdrive/My Drive/shecode/reference2-paper/face_detector/deploy.prototxt\"\n",
        "weightsPath = \"/content/gdrive/My Drive/shecode/reference2-paper/face_detector/res10_300x300_ssd_iter_140000.caffemodel\"\n",
        "net = cv2.dnn.readNet(prototxtPath, weightsPath)\n",
        "net.setInput(blob)\n",
        "detections = net.forward()"
      ],
      "execution_count": 102,
      "outputs": []
    },
    {
      "cell_type": "code",
      "metadata": {
        "id": "P93Utb_V42Gl",
        "colab_type": "code",
        "colab": {
          "base_uri": "https://localhost:8080/",
          "height": 303
        },
        "outputId": "bda6afb1-3397-416d-eb40-a3e2ceaec08e"
      },
      "source": [
        "# loop over the detections\n",
        "for i in range(0, detections.shape[2]):\n",
        "\t# extract the confidence (i.e., probability) associated with\n",
        "\t# the detection\n",
        "\tconfidence = detections[0, 0, i, 2]\n",
        "  # filter out weak detections by ensuring the confidence is\n",
        "\t# greater than the minimum confidence\n",
        "\tif confidence > 0.5: #args[\"confidence\"]:\n",
        "\t\t# compute the (x, y)-coordinates of the bounding box for\n",
        "\t\t# the object\n",
        "\t\tbox = detections[0, 0, i, 3:7] * np.array([w, h, w, h])\n",
        "\t\t(startX, startY, endX, endY) = box.astype(\"int\")\n",
        "\n",
        "\t\t# ensure the bounding boxes fall within the dimensions of\n",
        "\t\t# the frame\n",
        "\t\t(startX, startY) = (max(0, startX), max(0, startY))\n",
        "\t\t(endX, endY) = (min(w - 1, endX), min(h - 1, endY))\n",
        "\n",
        "\t\t# extract the face ROI, convert it from BGR to RGB channel\n",
        "\t\t# ordering, resize it to 224x224, and preprocess it\n",
        "\t\tface = image[startY:endY, startX:endX]\n",
        "\t\t# face = cv2.cvtColor(face, cv2.COLOR_BGR2RGB)\n",
        "\t\tface = cv2.resize(face, (224, 224))\n",
        "\t\tface = img_to_array(face)\n",
        "\t\tface = preprocess_input(face)\n",
        "\t\tface = np.expand_dims(face, axis=0)\n",
        "\n",
        "\t\t# pass the face through the model to determine if the face\n",
        "\t\t# has a mask or not\n",
        "\t\t(mask, withoutMask) = model.predict(face)[0]\n",
        "\n",
        "\t\t# determine the class label and color we'll use to draw\n",
        "\t\t# the bounding box and text\n",
        "\t\tlabel = \"Mask\" if mask > withoutMask else \"No Mask\"\n",
        "\t\tcolor = (0, 255, 0) if label == \"Mask\" else (0, 255, 255)\n",
        "\n",
        "\t\t# include the probability in the label\n",
        "\t\tlabel = \"{}: {:.2f}%\".format(label, max(mask, withoutMask) * 100)\n",
        "\n",
        "\t\t# display the label and bounding box rectangle on the output\n",
        "\t\t# frame\n",
        "\t\tcv2.putText(image, label, (startX, startY - 10),\n",
        "\t\t\tcv2.FONT_HERSHEY_SIMPLEX, 0.45, color, 2)\n",
        "\t\tcv2.rectangle(image, (startX, startY), (endX, endY), color, 2)\n",
        "\t\tprint(startX, startY, endX, endY)\n",
        "\n",
        "plt.imshow(image)"
      ],
      "execution_count": 103,
      "outputs": [
        {
          "output_type": "stream",
          "text": [
            "186 50 274 173\n"
          ],
          "name": "stdout"
        },
        {
          "output_type": "execute_result",
          "data": {
            "text/plain": [
              "<matplotlib.image.AxesImage at 0x7f2aa119a400>"
            ]
          },
          "metadata": {
            "tags": []
          },
          "execution_count": 103
        },
        {
          "output_type": "display_data",
          "data": {
            "image/png": "[encoded data removed]",
            "text/plain": [
              "<Figure size 432x288 with 1 Axes>"
            ]
          },
          "metadata": {
            "tags": [],
            "needs_background": "light"
          }
        }
      ]
    },
    {
      "cell_type": "markdown",
      "metadata": {
        "id": "P86elDAWt84x",
        "colab_type": "text"
      },
      "source": [
        "# DETECT MASK VIDEO"
      ]
    },
    {
      "cell_type": "code",
      "metadata": {
        "id": "S6L_aJNot0uc",
        "colab_type": "code",
        "colab": {}
      },
      "source": [
        "# USAGE\n",
        "# python detect_mask_video.py\n",
        "\n",
        "# import the necessary packages\n",
        "from tensorflow.keras.applications.mobilenet_v2 import preprocess_input\n",
        "from tensorflow.keras.preprocessing.image import img_to_array\n",
        "from tensorflow.keras.models import load_model\n",
        "from imutils.video import VideoStream\n",
        "import numpy as np\n",
        "import argparse\n",
        "import imutils\n",
        "import time\n",
        "import cv2\n",
        "import os\n",
        "\n",
        "def detect_and_predict_mask(frame, faceNet, maskNet):\n",
        "\t# grab the dimensions of the frame and then construct a blob\n",
        "\t# from it\n",
        "\t(h, w) = frame.shape[:2]\n",
        "\tblob = cv2.dnn.blobFromImage(frame, 1.0, (300, 300),\n",
        "\t\t(104.0, 177.0, 123.0))\n",
        "\n",
        "\t# pass the blob through the network and obtain the face detections\n",
        "\tfaceNet.setInput(blob)\n",
        "\tdetections = faceNet.forward()\n",
        "\n",
        "\t# initialize our list of faces, their corresponding locations,\n",
        "\t# and the list of predictions from our face mask network\n",
        "\tfaces = []\n",
        "\tlocs = []\n",
        "\tpreds = []\n",
        "\n",
        "\t# loop over the detections\n",
        "\tfor i in range(0, detections.shape[2]):\n",
        "\t\t# extract the confidence (i.e., probability) associated with\n",
        "\t\t# the detection\n",
        "\t\tconfidence = detections[0, 0, i, 2]\n",
        "\n",
        "\t\t# filter out weak detections by ensuring the confidence is\n",
        "\t\t# greater than the minimum confidence\n",
        "\t\tif confidence > 0.05:\n",
        "\t\t\t# compute the (x, y)-coordinates of the bounding box for\n",
        "\t\t\t# the object\n",
        "\t\t\tbox = detections[0, 0, i, 3:7] * np.array([w, h, w, h])\n",
        "\t\t\t(startX, startY, endX, endY) = box.astype(\"int\")\n",
        "\n",
        "\t\t\t# ensure the bounding boxes fall within the dimensions of\n",
        "\t\t\t# the frame\n",
        "\t\t\t(startX, startY) = (max(0, startX), max(0, startY))\n",
        "\t\t\t(endX, endY) = (min(w - 1, endX), min(h - 1, endY))\n",
        "\n",
        "\t\t\t# extract the face ROI, convert it from BGR to RGB channel\n",
        "\t\t\t# ordering, resize it to 224x224, and preprocess it\n",
        "\t\t\tface = frame[startY:endY, startX:endX]\n",
        "\t\t\tface = cv2.cvtColor(face, cv2.COLOR_BGR2RGB)\n",
        "\t\t\tface = cv2.resize(face, (224, 224))\n",
        "\t\t\tface = img_to_array(face)\n",
        "\t\t\tface = preprocess_input(face)\n",
        "\n",
        "\t\t\t# add the face and bounding boxes to their respective\n",
        "\t\t\t# lists\n",
        "\t\t\tfaces.append(face)\n",
        "\t\t\tlocs.append((startX, startY, endX, endY))\n",
        "\n",
        "\t# only make a predictions if at least one face was detected\n",
        "\tif len(faces) > 0:\n",
        "\t\t# for faster inference we'll make batch predictions on *all*\n",
        "\t\t# faces at the same time rather than one-by-one predictions\n",
        "\t\t# in the above `for` loop\n",
        "\t\tfaces = np.array(faces, dtype=\"float32\")\n",
        "\t\tpreds = maskNet.predict(faces, batch_size=32)\n",
        "\n",
        "\t# return a 2-tuple of the face locations and their corresponding\n",
        "\t# locations\n",
        "\treturn (locs, preds)"
      ],
      "execution_count": 22,
      "outputs": []
    },
    {
      "cell_type": "code",
      "metadata": {
        "id": "1o4acyomt0tR",
        "colab_type": "code",
        "colab": {}
      },
      "source": [
        ""
      ],
      "execution_count": null,
      "outputs": []
    },
    {
      "cell_type": "code",
      "metadata": {
        "id": "ZI9ohQbet0sG",
        "colab_type": "code",
        "colab": {}
      },
      "source": [
        ""
      ],
      "execution_count": null,
      "outputs": []
    },
    {
      "cell_type": "code",
      "metadata": {
        "id": "UbOHW83it0qq",
        "colab_type": "code",
        "colab": {}
      },
      "source": [
        ""
      ],
      "execution_count": null,
      "outputs": []
    },
    {
      "cell_type": "code",
      "metadata": {
        "id": "EEWu990yt0n4",
        "colab_type": "code",
        "colab": {}
      },
      "source": [
        ""
      ],
      "execution_count": null,
      "outputs": []
    },
    {
      "cell_type": "code",
      "metadata": {
        "id": "QLYH9chrTpEj",
        "colab_type": "code",
        "colab": {
          "base_uri": "https://localhost:8080/",
          "height": 552
        },
        "outputId": "cf9e61da-651b-42c9-e972-8d110919b3f4"
      },
      "source": [
        "!pip install ffmpeg-python\n",
        "\n",
        "from IPython.display import HTML, Javascript, display\n",
        "from google.colab.output import eval_js\n",
        "from base64 import b64decode\n",
        "import numpy as np\n",
        "import io\n",
        "import ffmpeg\n",
        "\n",
        "video_file_train = '/content/drive/My Drive/Colab Notebooks/Video Datasets/osy_train.mp4' \n",
        "video_file_test = '/content/drive/My Drive/Colab Notebooks/Video Datasets/osy_test.mp4' \n",
        "  \n",
        "\n",
        "VIDEO_HTML = \"\"\"\n",
        "<script>\n",
        "var my_div = document.createElement(\"DIV\");\n",
        "var my_p = document.createElement(\"P\");\n",
        "var my_btn = document.createElement(\"BUTTON\");\n",
        "var my_btn_txt = document.createTextNode(\"Press to start recording\");\n",
        "\n",
        "my_btn.appendChild(my_btn_txt);\n",
        "my_div.appendChild(my_btn);\n",
        "document.body.appendChild(my_div);\n",
        "\n",
        "var base64data = 0;\n",
        "var reader;\n",
        "var recorder, videoStream;\n",
        "var recordButton = my_btn;\n",
        "\n",
        "var handleSuccess = function(stream) {\n",
        "  videoStream = stream;\n",
        "  var options = {  \n",
        "    mimeType : 'video/webm;codecs=vp9'  \n",
        "  };            \n",
        "  recorder = new MediaRecorder(stream, options);\n",
        "  recorder.ondataavailable = function(e) {            \n",
        "    var url = URL.createObjectURL(e.data);\n",
        "    var preview = document.createElement('video');\n",
        "    preview.controls = true;\n",
        "    preview.src = url;\n",
        "    document.body.appendChild(preview);\n",
        "\n",
        "    reader = new FileReader();\n",
        "    reader.readAsDataURL(e.data); \n",
        "    reader.onloadend = function() {\n",
        "      base64data = reader.result;\n",
        "    }\n",
        "  };\n",
        "  recorder.start();\n",
        "  };\n",
        "\n",
        "recordButton.innerText = \"Recording... press to stop\";\n",
        "\n",
        "navigator.mediaDevices.getUserMedia({video: true}).then(handleSuccess);\n",
        "\n",
        "\n",
        "function toggleRecording() {\n",
        "  if (recorder && recorder.state == \"recording\") {\n",
        "      recorder.stop();\n",
        "      videoStream.getVideoTracks()[0].stop();\n",
        "      recordButton.innerText = \"Saving the recording... Please wait!\"\n",
        "  }\n",
        "}\n",
        "\n",
        "function sleep(ms) {\n",
        "  return new Promise(resolve => setTimeout(resolve, ms));\n",
        "}\n",
        "\n",
        "var data = new Promise(resolve=>{\n",
        "recordButton.onclick = ()=>{\n",
        "toggleRecording()\n",
        "\n",
        "sleep(2000).then(() => {\n",
        "  // wait 2000ms for the data to be available\n",
        "  resolve(base64data.toString())\n",
        "\n",
        "});\n",
        "\n",
        "}\n",
        "});\n",
        "      \n",
        "</script>\n",
        "\"\"\"\n",
        "\n",
        "def start_webcam():\n",
        "  js = Javascript('''\n",
        "    async function startWebcam() {\n",
        "      const div = document.createElement('div');\n",
        "\n",
        "      const video = document.createElement('video');\n",
        "      video.style.display = 'block';\n",
        "      const stream = await navigator.mediaDevices.getUserMedia({video: true});\n",
        "\n",
        "      document.body.appendChild(div);\n",
        "      div.appendChild(video);\n",
        "      video.srcObject = stream;\n",
        "      await video.play();\n",
        "\n",
        "      // Resize the output to fit the video element.\n",
        "      google.colab.output.setIframeHeight(document.documentElement.scrollHeight, true);\n",
        "      \n",
        "      return;\n",
        "\n",
        "    }\n",
        "    ''')\n",
        "  \n",
        "  display(js)\n",
        "  frame = eval_js('startWebcam()')\n",
        "  \n",
        "    \n",
        "start_webcam()\n",
        "\n",
        "def get_video():\n",
        "  display(HTML(VIDEO_HTML))\n",
        "  data = eval_js(\"data\")\n",
        "  binary = b64decode(data.split(',')[1])\n",
        "  \n",
        "  return binary\n"
      ],
      "execution_count": null,
      "outputs": [
        {
          "output_type": "stream",
          "text": [
            "Requirement already satisfied: ffmpeg-python in /usr/local/lib/python3.6/dist-packages (0.2.0)\n",
            "Requirement already satisfied: future in /usr/local/lib/python3.6/dist-packages (from ffmpeg-python) (0.16.0)\n"
          ],
          "name": "stdout"
        },
        {
          "output_type": "display_data",
          "data": {
            "application/javascript": [
              "\n",
              "    async function startWebcam() {\n",
              "      const div = document.createElement('div');\n",
              "\n",
              "      const video = document.createElement('video');\n",
              "      video.style.display = 'block';\n",
              "      const stream = await navigator.mediaDevices.getUserMedia({video: true});\n",
              "\n",
              "      document.body.appendChild(div);\n",
              "      div.appendChild(video);\n",
              "      video.srcObject = stream;\n",
              "      await video.play();\n",
              "\n",
              "      // Resize the output to fit the video element.\n",
              "      google.colab.output.setIframeHeight(document.documentElement.scrollHeight, true);\n",
              "      \n",
              "      return;\n",
              "\n",
              "    }\n",
              "    "
            ],
            "text/plain": [
              "<IPython.core.display.Javascript object>"
            ]
          },
          "metadata": {
            "tags": []
          }
        }
      ]
    },
    {
      "cell_type": "code",
      "metadata": {
        "id": "J8_wQxBbzALy",
        "colab_type": "code",
        "colab": {
          "base_uri": "https://localhost:8080/",
          "height": 34
        },
        "outputId": "7c1dfac7-e1e4-414c-b4a1-7472514b4faa"
      },
      "source": [
        "prototxtPath  = \"/content/gdrive/My Drive/shecode/reference2-paper/face_detector/deploy.prototxt\"\n",
        "weightsPath = \"/content/gdrive/My Drive/shecode/reference2-paper/face_detector/res10_300x300_ssd_iter_140000.caffemodel\"\n",
        "faceNet = cv2.dnn.readNet(prototxtPath, weightsPath)\n",
        "# faceNet.setInput(blob)\n",
        "# detections = faceNet.forward()\n",
        "# load the face mask detector model from disk\n",
        "print(\"[INFO] loading face mask detector model...\")\n",
        "maskNet = load_model('model.h5')"
      ],
      "execution_count": null,
      "outputs": [
        {
          "output_type": "stream",
          "text": [
            "[INFO] loading face mask detector model...\n"
          ],
          "name": "stdout"
        }
      ]
    },
    {
      "cell_type": "code",
      "metadata": {
        "id": "0cYAc9FiGaMe",
        "colab_type": "code",
        "colab": {
          "base_uri": "https://localhost:8080/",
          "height": 381
        },
        "outputId": "3c62bf2c-66e5-4cd0-fb43-d54e7d3c6e0f"
      },
      "source": [
        "# # initialize the video stream and allow the camera sensor to warm up\n",
        "# print(\"[INFO] starting video stream...\")\n",
        "# vs = VideoStream(src=0).start()\n",
        "# time.sleep(2.0)\n",
        "\n",
        "# loop over the frames from the video stream\n",
        "webcam = cv2.VideoCapture(0) #Use camera 0\n",
        "# We load the xml file\n",
        "classifier = cv2.CascadeClassifier('haarcascade_frontalface_default.xml')\n",
        "\n",
        "while True:\n",
        "\t# grab the frame from the threaded video stream and resize it\n",
        "\t# to have a maximum width of 400 pixels\n",
        "\t(rval, frame) = webcam.read()\n",
        "\t\n",
        "  # frame=cv2.flip(im,1,1) #Flip to act as a mirror\n",
        "\n",
        "\t# frame = vs.read()\n",
        "\t# frame = imutils.resize(frame, width=400)\n",
        "\n",
        "  \n",
        "\t# detect faces in the frame and determine if they are wearing a\n",
        "\t# face mask or not\n",
        "\t(locs, preds) = detect_and_predict_mask(frame, faceNet, maskNet)\n",
        "\n",
        "\t# loop over the detected face locations and their corresponding\n",
        "\t# locations\n",
        "\tfor (box, pred) in zip(locs, preds):\n",
        "\t\t# unpack the bounding box and predictions\n",
        "\t\t(startX, startY, endX, endY) = box\n",
        "\t\t(mask, withoutMask) = pred\n",
        "\n",
        "\t\t# determine the class label and color we'll use to draw\n",
        "\t\t# the bounding box and text\n",
        "\t\tlabel = \"Mask\" if mask > withoutMask else \"No Mask\"\n",
        "\t\tcolor = (0, 255, 0) if label == \"Mask\" else (0, 0, 255)\n",
        "\n",
        "\t\t# include the probability in the label\n",
        "\t\tlabel = \"{}: {:.2f}%\".format(label, max(mask, withoutMask) * 100)\n",
        "\n",
        "\t\t# display the label and bounding box rectangle on the output\n",
        "\t\t# frame\n",
        "\t\tcv2.putText(frame, label, (startX, startY - 10),\n",
        "\t\t\tcv2.FONT_HERSHEY_SIMPLEX, 0.45, color, 2)\n",
        "\t\tcv2.rectangle(frame, (startX, startY), (endX, endY), color, 2)\n",
        "\n",
        "\t# show the output frame\n",
        "\tcv2.imshow(\"Frame\", frame)\n",
        "\tkey = cv2.waitKey(1) & 0xFF\n",
        "\n",
        "\t# if the `q` key was pressed, break from the loop\n",
        "\tif key == ord(\"q\"):\n",
        "\t\tbreak\n",
        "\n",
        "# do a bit of cleanup\n",
        "cv2.destroyAllWindows()\n",
        "vs.stop()"
      ],
      "execution_count": null,
      "outputs": [
        {
          "output_type": "stream",
          "text": [
            "<class 'NoneType'>\n"
          ],
          "name": "stdout"
        },
        {
          "output_type": "error",
          "ename": "AttributeError",
          "evalue": "ignored",
          "traceback": [
            "\u001b[0;31m---------------------------------------------------------------------------\u001b[0m",
            "\u001b[0;31mAttributeError\u001b[0m                            Traceback (most recent call last)",
            "\u001b[0;32m<ipython-input-134-d2f777fa9616>\u001b[0m in \u001b[0;36m<module>\u001b[0;34m()\u001b[0m\n\u001b[1;32m     22\u001b[0m         \u001b[0;31m# detect faces in the frame and determine if they are wearing a\u001b[0m\u001b[0;34m\u001b[0m\u001b[0;34m\u001b[0m\u001b[0;34m\u001b[0m\u001b[0m\n\u001b[1;32m     23\u001b[0m         \u001b[0;31m# face mask or not\u001b[0m\u001b[0;34m\u001b[0m\u001b[0;34m\u001b[0m\u001b[0;34m\u001b[0m\u001b[0m\n\u001b[0;32m---> 24\u001b[0;31m         \u001b[0;34m(\u001b[0m\u001b[0mlocs\u001b[0m\u001b[0;34m,\u001b[0m \u001b[0mpreds\u001b[0m\u001b[0;34m)\u001b[0m \u001b[0;34m=\u001b[0m \u001b[0mdetect_and_predict_mask\u001b[0m\u001b[0;34m(\u001b[0m\u001b[0mframe\u001b[0m\u001b[0;34m,\u001b[0m \u001b[0mfaceNet\u001b[0m\u001b[0;34m,\u001b[0m \u001b[0mmaskNet\u001b[0m\u001b[0;34m)\u001b[0m\u001b[0;34m\u001b[0m\u001b[0;34m\u001b[0m\u001b[0m\n\u001b[0m\u001b[1;32m     25\u001b[0m \u001b[0;34m\u001b[0m\u001b[0m\n\u001b[1;32m     26\u001b[0m         \u001b[0;31m# loop over the detected face locations and their corresponding\u001b[0m\u001b[0;34m\u001b[0m\u001b[0;34m\u001b[0m\u001b[0;34m\u001b[0m\u001b[0m\n",
            "\u001b[0;32m<ipython-input-45-c028448389fb>\u001b[0m in \u001b[0;36mdetect_and_predict_mask\u001b[0;34m(frame, faceNet, maskNet)\u001b[0m\n\u001b[1;32m     17\u001b[0m         \u001b[0;31m# grab the dimensions of the frame and then construct a blob\u001b[0m\u001b[0;34m\u001b[0m\u001b[0;34m\u001b[0m\u001b[0;34m\u001b[0m\u001b[0m\n\u001b[1;32m     18\u001b[0m         \u001b[0;31m# from it\u001b[0m\u001b[0;34m\u001b[0m\u001b[0;34m\u001b[0m\u001b[0;34m\u001b[0m\u001b[0m\n\u001b[0;32m---> 19\u001b[0;31m         \u001b[0;34m(\u001b[0m\u001b[0mh\u001b[0m\u001b[0;34m,\u001b[0m \u001b[0mw\u001b[0m\u001b[0;34m)\u001b[0m \u001b[0;34m=\u001b[0m \u001b[0mframe\u001b[0m\u001b[0;34m.\u001b[0m\u001b[0mshape\u001b[0m\u001b[0;34m[\u001b[0m\u001b[0;34m:\u001b[0m\u001b[0;36m2\u001b[0m\u001b[0;34m]\u001b[0m\u001b[0;34m\u001b[0m\u001b[0;34m\u001b[0m\u001b[0m\n\u001b[0m\u001b[1;32m     20\u001b[0m \tblob = cv2.dnn.blobFromImage(frame, 1.0, (300, 300),\n\u001b[1;32m     21\u001b[0m \t\t(104.0, 177.0, 123.0))\n",
            "\u001b[0;31mAttributeError\u001b[0m: 'NoneType' object has no attribute 'shape'"
          ]
        }
      ]
    },
    {
      "cell_type": "code",
      "metadata": {
        "id": "YIw6-r23FpyV",
        "colab_type": "code",
        "colab": {}
      },
      "source": [
        "face_cascade = cv2.CascadeClassifier(\"haarcascade_frontalface_default.xml\") \n",
        "vs = VideoStream(src=0).start()\n",
        "start = time.perf_counter() \n",
        "data = [] \n",
        "time_value = 0\n",
        "if args[\"save\"]: \n",
        " out = cv2.VideoWriter(path + \"liveoutput.avi\", cv2.VideoWriter_fourcc('M','J','P','G'), 10, (450,253))"
      ],
      "execution_count": null,
      "outputs": []
    },
    {
      "cell_type": "code",
      "metadata": {
        "id": "Udu6lq1bRgwn",
        "colab_type": "code",
        "colab": {}
      },
      "source": [
        ""
      ],
      "execution_count": null,
      "outputs": []
    }
  ]
}