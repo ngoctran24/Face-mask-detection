{
  "nbformat": 4,
  "nbformat_minor": 0,
  "metadata": {
    "colab": {
      "name": "Untitled0.ipynb",
      "provenance": [],
      "authorship_tag": "ABX9TyOg+HDPA9EKhfsBSkMy8Orq",
      "include_colab_link": true
    },
    "kernelspec": {
      "name": "python3",
      "display_name": "Python 3"
    }
  },
  "cells": [
    {
      "cell_type": "markdown",
      "metadata": {
        "id": "view-in-github",
        "colab_type": "text"
      },
      "source": [
        "<a href=\"https://colab.research.google.com/github/ngoctran24/ngoctran24/blob/master/JumpyNumbers.ipynb\" target=\"_parent\"><img src=\"https://colab.research.google.com/assets/colab-badge.svg\" alt=\"Open In Colab\"/></a>"
      ]
    },
    {
      "cell_type": "code",
      "metadata": {
        "id": "nKG7v1NXXOba",
        "colab_type": "code",
        "colab": {
          "base_uri": "https://localhost:8080/",
          "height": 34
        },
        "outputId": "edc5e0b0-ec34-458d-884a-0f80b8621f28"
      },
      "source": [
        "MAXIMUM = 9999\n",
        "\n",
        "def isJumpy(n):\n",
        "  num_list = [int (x) for x in str (n)]\n",
        "  increase = decrease = False\n",
        "  for index in range (1, len (num_list)):\n",
        "    if (num_list[index-1] < num_list[index]):\n",
        "      increase = True\n",
        "    elif (num_list[index-1] > num_list[index]):\n",
        "      decrease = True\n",
        "    if (increase and decrease):\n",
        "      return True\n",
        "  return False\n",
        "\n",
        "if __name__ == '__main__':\n",
        "  flag = total = 0\n",
        "  for i in range(0, MAXIMUM):\n",
        "    if isJumpy(i) and flag < 500:\n",
        "      total += i\n",
        "      flag += 1\n",
        "      \n",
        "  print(\"The sum of the first 500 jumpy numbers = \", total)\n"
      ],
      "execution_count": 3,
      "outputs": [
        {
          "output_type": "stream",
          "text": [
            "The sum of the first 500 jumpy numbers =  258001\n"
          ],
          "name": "stdout"
        }
      ]
    },
    {
      "cell_type": "code",
      "metadata": {
        "id": "daaUx5okbmf7",
        "colab_type": "code",
        "colab": {}
      },
      "source": [
        ""
      ],
      "execution_count": 0,
      "outputs": []
    }
  ]
}